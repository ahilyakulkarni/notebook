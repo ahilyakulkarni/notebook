{
  "cells": [
    {
      "id": "978b6b7e-bd37-40f0-ab58-d69463e495ce",
      "cell_type": "markdown",
      "metadata": {},
      "source": "# Importing Jupyter Notebooks as Modules",
      "attachments": {}
    },
    {
      "id": "f1cac327-7a7e-4b8a-bb53-dc3324016cbe",
      "cell_type": "markdown",
      "metadata": {},
      "source": "It is a common problem that people want to import code from Jupyter Notebooks.\nThis is made difficult by the fact that Notebooks are not plain Python files,\nand thus cannot be imported by the regular Python machinery.\n\nFortunately, Python provides some fairly sophisticated [hooks](https://www.python.org/dev/peps/pep-0302/) into the import machinery,\nso we can actually make Jupyter notebooks importable without much difficulty,\nand only using public APIs.",
      "attachments": {}
    },
    {
      "id": "bcd7df74-5cab-46dc-b3b5-8a2fc49f8dc6",
      "cell_type": "code",
      "metadata": {
        "collapsed": false,
        "jupyter": {
          "outputs_hidden": false
        },
        "language": "python"
      },
      "source": "import io, os, sys, types",
      "outputs": [],
      "execution_count": null
    },
    {
      "id": "370b318b-41e4-4056-8782-e975b098df1b",
      "cell_type": "code",
      "metadata": {
        "collapsed": false,
        "jupyter": {
          "outputs_hidden": false
        },
        "language": "python"
      },
      "source": "from IPython import get_ipython\nfrom nbformat import read\nfrom IPython.core.interactiveshell import InteractiveShell",
      "outputs": [],
      "execution_count": null
    },
    {
      "id": "499e3abb-a360-437b-9671-3a3f28a36d86",
      "cell_type": "markdown",
      "metadata": {},
      "source": "Import hooks typically take the form of two objects:\n\n1. a Module **Loader**, which takes a module name (e.g. `'IPython.display'`), and returns a Module\n2. a Module **Finder**, which figures out whether a module might exist, and tells Python what **Loader** to use",
      "attachments": {}
    },
    {
      "id": "7e9c1854-32ac-4b65-a686-d3a95fcc3757",
      "cell_type": "code",
      "metadata": {
        "collapsed": false,
        "jupyter": {
          "outputs_hidden": false
        },
        "language": "python"
      },
      "source": "def find_notebook(fullname, path=None):\n    \"\"\"find a notebook, given its fully qualified name and an optional path\n\n    This turns \"foo.bar\" into \"foo/bar.ipynb\"\n    and tries turning \"Foo_Bar\" into \"Foo Bar\" if Foo_Bar\n    does not exist.\n    \"\"\"\n    name = fullname.rsplit('.', 1)[-1]\n    if not path:\n        path = ['']\n    for d in path:\n        nb_path = os.path.join(d, name + \".ipynb\")\n        if os.path.isfile(nb_path):\n            return nb_path\n        # let import Notebook_Name find \"Notebook Name.ipynb\"\n        nb_path = nb_path.replace(\"_\", \" \")\n        if os.path.isfile(nb_path):\n            return nb_path",
      "outputs": [],
      "execution_count": null
    },
    {
      "id": "618297f5-1539-4515-b717-e431b3fef8d6",
      "cell_type": "markdown",
      "metadata": {},
      "source": "## Notebook Loader",
      "attachments": {}
    },
    {
      "id": "9c231b73-08eb-4672-ab52-b9956b2fce1a",
      "cell_type": "markdown",
      "metadata": {},
      "source": "Here we have our Notebook Loader.\nIt's actually quite simple - once we figure out the filename of the module,\nall it does is:\n\n1. load the notebook document into memory\n2. create an empty Module\n3. execute every cell in the Module namespace\n\nSince IPython cells can have extended syntax,\nthe IPython transform is applied to turn each of these cells into their pure-Python counterparts before executing them.\nIf all of your notebook cells are pure-Python,\nthis step is unnecessary.",
      "attachments": {}
    },
    {
      "id": "20c7b601-e195-40d6-a977-62638ca71aee",
      "cell_type": "code",
      "metadata": {
        "collapsed": false,
        "jupyter": {
          "outputs_hidden": false
        },
        "language": "python"
      },
      "source": "class NotebookLoader(object):\n    \"\"\"Module Loader for Jupyter Notebooks\"\"\"\n\n    def __init__(self, path=None):\n        self.shell = InteractiveShell.instance()\n        self.path = path\n\n    def load_module(self, fullname):\n        \"\"\"import a notebook as a module\"\"\"\n        path = find_notebook(fullname, self.path)\n\n        print(\"importing Jupyter notebook from %s\" % path)\n\n        # load the notebook object\n        with io.open(path, 'r', encoding='utf-8') as f:\n            nb = read(f, 4)\n\n        # create the module and add it to sys.modules\n        # if name in sys.modules:\n        #    return sys.modules[name]\n        mod = types.ModuleType(fullname)\n        mod.__file__ = path\n        mod.__loader__ = self\n        mod.__dict__['get_ipython'] = get_ipython\n        sys.modules[fullname] = mod\n\n        # extra work to ensure that magics that would affect the user_ns\n        # actually affect the notebook module's ns\n        save_user_ns = self.shell.user_ns\n        self.shell.user_ns = mod.__dict__\n\n        try:\n            for cell in nb.cells:\n                if cell.cell_type == 'code':\n                    # transform the input to executable Python\n                    code = self.shell.input_transformer_manager.transform_cell(cell.source)\n                    # run the code in themodule\n                    exec(code, mod.__dict__)\n        finally:\n            self.shell.user_ns = save_user_ns\n        return mod",
      "outputs": [],
      "execution_count": null
    },
    {
      "id": "5cf01910-3d8e-4bde-9288-cfcb357de7d8",
      "cell_type": "markdown",
      "metadata": {},
      "source": "## The Module Finder",
      "attachments": {}
    },
    {
      "id": "bb3d1000-d6df-4947-9dfd-33f711b19752",
      "cell_type": "markdown",
      "metadata": {},
      "source": "The finder is a simple object that tells you whether a name can be imported,\nand returns the appropriate loader.\nAll this one does is check, when you do:\n\n```python\nimport mynotebook\n```\n\nit checks whether `mynotebook.ipynb` exists.\nIf a notebook is found, then it returns a NotebookLoader.\n\nAny extra logic is just for resolving paths within packages.",
      "attachments": {}
    },
    {
      "id": "01ad773d-9b8b-4354-8813-a94a3f07000f",
      "cell_type": "code",
      "metadata": {
        "collapsed": false,
        "jupyter": {
          "outputs_hidden": false
        },
        "language": "python"
      },
      "source": "class NotebookFinder(object):\n    \"\"\"Module finder that locates Jupyter Notebooks\"\"\"\n\n    def __init__(self):\n        self.loaders = {}\n\n    def find_module(self, fullname, path=None):\n        nb_path = find_notebook(fullname, path)\n        if not nb_path:\n            return\n\n        key = path\n        if path:\n            # lists aren't hashable\n            key = os.path.sep.join(path)\n\n        if key not in self.loaders:\n            self.loaders[key] = NotebookLoader(path)\n        return self.loaders[key]",
      "outputs": [],
      "execution_count": null
    },
    {
      "id": "3a119fe2-6b79-479e-a4db-c1f3c046d10e",
      "cell_type": "markdown",
      "metadata": {},
      "source": "## Register the hook",
      "attachments": {}
    },
    {
      "id": "2260b7aa-c444-4889-bd41-0205bbe8de9e",
      "cell_type": "markdown",
      "metadata": {},
      "source": "Now we register the `NotebookFinder` with `sys.meta_path`",
      "attachments": {}
    },
    {
      "id": "5b37d90c-1343-4742-9ad7-c5701bbdbdd9",
      "cell_type": "code",
      "metadata": {
        "collapsed": false,
        "jupyter": {
          "outputs_hidden": false
        },
        "language": "python"
      },
      "source": "sys.meta_path.append(NotebookFinder())",
      "outputs": [],
      "execution_count": null
    },
    {
      "id": "530d93db-2ab7-4758-9aad-8c26c66e49ae",
      "cell_type": "markdown",
      "metadata": {},
      "source": "After this point, my notebooks should be importable.\n\nLet's look at what we have in the CWD:",
      "attachments": {}
    },
    {
      "id": "fabaf10a-196a-404f-8219-924ce17940eb",
      "cell_type": "code",
      "metadata": {
        "collapsed": false,
        "jupyter": {
          "outputs_hidden": false
        },
        "language": "python"
      },
      "source": "ls nbpackage",
      "outputs": [],
      "execution_count": null
    },
    {
      "id": "af4bfc3e-c4cb-482d-9d1e-805d73872c14",
      "cell_type": "markdown",
      "metadata": {},
      "source": "So I should be able to `import nbpackage.mynotebook`.",
      "attachments": {}
    },
    {
      "id": "ce21dc18-20b1-4db0-ba30-696e598f4012",
      "cell_type": "code",
      "metadata": {
        "collapsed": false,
        "jupyter": {
          "outputs_hidden": false
        },
        "language": "python"
      },
      "source": "import nbpackage.mynotebook",
      "outputs": [],
      "execution_count": null
    },
    {
      "id": "02de23da-f34b-4316-b2b5-b2b7bbc8132d",
      "cell_type": "markdown",
      "metadata": {},
      "source": "### Aside: displaying notebooks",
      "attachments": {}
    },
    {
      "id": "4ef22701-c58e-4c00-ac87-323de5f721d9",
      "cell_type": "markdown",
      "metadata": {},
      "source": "Here is some simple code to display the contents of a notebook\nwith syntax highlighting, etc.",
      "attachments": {}
    },
    {
      "id": "fcf9145e-96d2-4a1d-89ad-26fcba7474fe",
      "cell_type": "code",
      "metadata": {
        "collapsed": false,
        "jupyter": {
          "outputs_hidden": false
        },
        "language": "python"
      },
      "source": "from pygments import highlight\nfrom pygments.lexers import PythonLexer\nfrom pygments.formatters import HtmlFormatter\n\nfrom IPython.display import display, HTML\n\nformatter = HtmlFormatter()\nlexer = PythonLexer()\n\n# publish the CSS for pygments highlighting\ndisplay(\n    HTML(\n        \"\"\"\n\u003cstyle type='text/css'\u003e\n%s\n\u003c/style\u003e\n\"\"\"\n        % formatter.get_style_defs()\n    )\n)",
      "outputs": [],
      "execution_count": null
    },
    {
      "id": "d44a8862-d3ca-4d5c-bf2b-49462a897013",
      "cell_type": "code",
      "metadata": {
        "collapsed": false,
        "jupyter": {
          "outputs_hidden": false
        },
        "language": "python"
      },
      "source": "def show_notebook(filename):\n    \"\"\"display a short summary of the cells of a notebook\"\"\"\n    with io.open(filename, 'r', encoding='utf-8') as f:\n        nb = read(f, 4)\n    html = []\n    for cell in nb.cells:\n        html.append(\"\u003ch4\u003e%s cell\u003c/h4\u003e\" % cell.cell_type)\n        if cell.cell_type == 'code':\n            html.append(highlight(cell.source, lexer, formatter))\n        else:\n            html.append(\"\u003cpre\u003e%s\u003c/pre\u003e\" % cell.source)\n    display(HTML('\\n'.join(html)))\n\n\nshow_notebook(os.path.join(\"nbpackage\", \"mynotebook.ipynb\"))",
      "outputs": [],
      "execution_count": null
    },
    {
      "id": "6458ef06-fca2-4fcb-8319-5f9c47d7faa3",
      "cell_type": "markdown",
      "metadata": {},
      "source": "So my notebook has some code cells,\none of which contains some IPython syntax.\n\nLet's see what happens when we import it",
      "attachments": {}
    },
    {
      "id": "61854578-1272-454f-8bd7-bc585bd165d1",
      "cell_type": "code",
      "metadata": {
        "collapsed": false,
        "jupyter": {
          "outputs_hidden": false
        },
        "language": "python"
      },
      "source": "from nbpackage import mynotebook",
      "outputs": [],
      "execution_count": null
    },
    {
      "id": "8528f130-6883-47fa-8c00-7be3d4771b07",
      "cell_type": "markdown",
      "metadata": {},
      "source": "Hooray, it imported!  Does it work?",
      "attachments": {}
    },
    {
      "id": "57c9269b-534f-4ae4-8924-68f1df759f5f",
      "cell_type": "code",
      "metadata": {
        "collapsed": false,
        "jupyter": {
          "outputs_hidden": false
        },
        "language": "python"
      },
      "source": "mynotebook.foo()",
      "outputs": [],
      "execution_count": null
    },
    {
      "id": "bd01fd0d-9763-463e-8b2f-b1c0b86fe5bc",
      "cell_type": "markdown",
      "metadata": {},
      "source": "Hooray again!\n\nEven the function that contains IPython syntax works:",
      "attachments": {}
    },
    {
      "id": "463c47ab-8ca1-4771-a9c6-b31fa4266e3a",
      "cell_type": "code",
      "metadata": {
        "collapsed": false,
        "jupyter": {
          "outputs_hidden": false
        },
        "language": "python"
      },
      "source": "mynotebook.has_ip_syntax()",
      "outputs": [],
      "execution_count": null
    },
    {
      "id": "8e1167ff-9ee4-4057-9f59-3147bff633ae",
      "cell_type": "markdown",
      "metadata": {},
      "source": "## Notebooks in packages",
      "attachments": {}
    },
    {
      "id": "e3431d2c-271f-4263-9277-da5bdca50faf",
      "cell_type": "markdown",
      "metadata": {},
      "source": "We also have a notebook inside the `nb` package,\nso let's make sure that works as well.",
      "attachments": {}
    },
    {
      "id": "714daf77-188a-461a-a74a-a358dbccde0e",
      "cell_type": "code",
      "metadata": {
        "collapsed": false,
        "jupyter": {
          "outputs_hidden": false
        },
        "language": "python"
      },
      "source": "ls nbpackage/nbs",
      "outputs": [],
      "execution_count": null
    },
    {
      "id": "886b54f4-ab6f-42a6-863b-2d5e0e2b92c3",
      "cell_type": "markdown",
      "metadata": {},
      "source": "Note that the `__init__.py` is necessary for `nb` to be considered a package,\njust like usual.",
      "attachments": {}
    },
    {
      "id": "bc386108-ca26-472d-b396-2c90a9876b8f",
      "cell_type": "code",
      "metadata": {
        "collapsed": false,
        "jupyter": {
          "outputs_hidden": false
        },
        "language": "python"
      },
      "source": "show_notebook(os.path.join(\"nbpackage\", \"nbs\", \"other.ipynb\"))",
      "outputs": [],
      "execution_count": null
    },
    {
      "id": "07456c03-8d92-4290-9b91-be8c8b598656",
      "cell_type": "code",
      "metadata": {
        "collapsed": false,
        "jupyter": {
          "outputs_hidden": false
        },
        "language": "python"
      },
      "source": "from nbpackage.nbs import other\n\nother.bar(5)",
      "outputs": [],
      "execution_count": null
    },
    {
      "id": "ea0119cc-f208-40d9-8a1e-7b05c227fa81",
      "cell_type": "markdown",
      "metadata": {},
      "source": "So now we have importable notebooks, from both the local directory and inside packages.\n\nI can even put a notebook inside IPython, to further demonstrate that this is working properly:",
      "attachments": {}
    },
    {
      "id": "34a50104-071e-482f-86ee-66fc4f272745",
      "cell_type": "code",
      "metadata": {
        "collapsed": false,
        "jupyter": {
          "outputs_hidden": false
        },
        "language": "python"
      },
      "source": "import shutil\nfrom IPython.paths import get_ipython_package_dir\n\nutils = os.path.join(get_ipython_package_dir(), 'utils')\nshutil.copy(\n    os.path.join(\"nbpackage\", \"mynotebook.ipynb\"), os.path.join(utils, \"inside_ipython.ipynb\")\n)",
      "outputs": [],
      "execution_count": null
    },
    {
      "id": "d199208e-01ca-4573-864b-e784a79792e9",
      "cell_type": "markdown",
      "metadata": {},
      "source": "and import the notebook from `IPython.utils`",
      "attachments": {}
    },
    {
      "id": "bf2ebcf9-a7fe-45b5-962c-0e24c5487009",
      "cell_type": "code",
      "metadata": {
        "collapsed": false,
        "jupyter": {
          "outputs_hidden": false
        },
        "language": "python"
      },
      "source": "from IPython.utils import inside_ipython\n\ninside_ipython.whatsmyname()",
      "outputs": [],
      "execution_count": null
    },
    {
      "id": "2c5ec6a8-f081-4afb-886c-aa64ca8ca52f",
      "cell_type": "markdown",
      "metadata": {},
      "source": "This approach can even import functions and classes that are defined in a notebook using the `%%cython` magic.",
      "attachments": {}
    }
  ],
  "metadata": {
    "kernelspec": {
      "display_name": "Python 3 (ipykernel)",
      "language": "python",
      "name": "python3"
    },
    "language_info": {
      "codemirror_mode": {
        "name": "ipython",
        "version": 3
      },
      "file_extension": ".py",
      "mimeType": "text/x-python",
      "name": "python",
      "nbconvert_exporter": "python",
      "pygments_lexer": "ipython3",
      "version": "3.11.9"
    },
    "singlestore_connection": {
      "connectionID": "",
      "defaultDatabase": ""
    },
    "singlestore_cell_default_language": "python",
    "singlestore_row_limit": 300
  },
  "nbformat": 4,
  "nbformat_minor": 5
}