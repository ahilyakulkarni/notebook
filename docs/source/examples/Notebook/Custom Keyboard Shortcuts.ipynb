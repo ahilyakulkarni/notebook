{
  "cells": [
    {
      "id": "f4e037a1-4790-41ec-9bb9-6baab69c1f50",
      "cell_type": "markdown",
      "metadata": {},
      "source": "# Keyboard Shortcut Customization",
      "attachments": {}
    },
    {
      "id": "15bfd99f-bda9-449b-ade4-b7b30eee92f1",
      "cell_type": "markdown",
      "metadata": {},
      "source": "You can customize the `command` modes shortcuts from within the Notebook Application itself. \n\nHead to the **Settings** menu and select the **Setting Editor** item.\nA dialog will guide you through the process of adding custom keyboards shortcuts.\n\nKeyboard shortcut set from within the Notebook Application will be persisted to your configuration file. \nA single action may have several shortcuts attached to it.",
      "attachments": {}
    },
    {
      "id": "af591a88-909f-4b94-9503-6795c1cd1000",
      "cell_type": "code",
      "metadata": {
        "language": "python",
        "trusted": true
      },
      "source": "",
      "outputs": [],
      "execution_count": null
    }
  ],
  "metadata": {
    "kernelspec": {
      "display_name": "Python 3 (ipykernel)",
      "language": "python",
      "name": "python3"
    },
    "language_info": {
      "codemirror_mode": {
        "name": "ipython",
        "version": 3
      },
      "file_extension": ".py",
      "mimeType": "text/x-python",
      "name": "python",
      "nbconvert_exporter": "python",
      "pygments_lexer": "ipython3",
      "version": "3.11.9"
    },
    "singlestore_connection": {
      "connectionID": "",
      "defaultDatabase": ""
    },
    "singlestore_cell_default_language": "python",
    "singlestore_row_limit": 300
  },
  "nbformat": 4,
  "nbformat_minor": 5
}